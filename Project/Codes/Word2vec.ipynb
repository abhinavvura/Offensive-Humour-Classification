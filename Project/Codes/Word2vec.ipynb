{
  "cells": [
    {
      "cell_type": "code",
      "execution_count": 1,
      "metadata": {
        "colab": {
          "base_uri": "https://localhost:8080/"
        },
        "id": "aNHefbqaOF_8",
        "outputId": "6651044c-7517-44f7-d923-bc6a90443abc"
      },
      "outputs": [
        {
          "name": "stdout",
          "output_type": "stream",
          "text": [
            "Collecting scikit-ntk\n",
            "  Downloading scikit_ntk-1.1.3-py3-none-any.whl (5.2 kB)\n",
            "Requirement already satisfied: scikit-learn<2.0.0,>=1.1.3 in /usr/local/lib/python3.10/dist-packages (from scikit-ntk) (1.2.2)\n",
            "Requirement already satisfied: numpy>=1.17.3 in /usr/local/lib/python3.10/dist-packages (from scikit-learn<2.0.0,>=1.1.3->scikit-ntk) (1.25.2)\n",
            "Requirement already satisfied: scipy>=1.3.2 in /usr/local/lib/python3.10/dist-packages (from scikit-learn<2.0.0,>=1.1.3->scikit-ntk) (1.11.4)\n",
            "Requirement already satisfied: joblib>=1.1.1 in /usr/local/lib/python3.10/dist-packages (from scikit-learn<2.0.0,>=1.1.3->scikit-ntk) (1.4.2)\n",
            "Requirement already satisfied: threadpoolctl>=2.0.0 in /usr/local/lib/python3.10/dist-packages (from scikit-learn<2.0.0,>=1.1.3->scikit-ntk) (3.5.0)\n",
            "Installing collected packages: scikit-ntk\n",
            "Successfully installed scikit-ntk-1.1.3\n"
          ]
        }
      ],
      "source": [
        "!pip install scikit-ntk"
      ]
    },
    {
      "cell_type": "code",
      "execution_count": 2,
      "metadata": {
        "id": "lV19FOGcORn7"
      },
      "outputs": [],
      "source": [
        "import pandas as pd\n",
        "import matplotlib.pyplot as plt\n",
        "import seaborn as sns\n",
        "from sklearn.feature_extraction.text import CountVectorizer\n",
        "import re\n",
        "from sklearn.manifold import TSNE\n",
        "import csv\n",
        "from collections import Counter, defaultdict\n",
        "import math\n",
        "import numpy as np\n",
        "from sklearn.model_selection import train_test_split\n",
        "from sklearn.svm import SVC\n",
        "from sklearn.metrics import accuracy_score\n",
        "from sklearn.preprocessing import StandardScaler\n",
        "from sklearn.ensemble import RandomForestClassifier\n",
        "from xgboost import XGBClassifier\n",
        "import xgboost as xgb\n",
        "import gensim\n",
        "import gensim.downloader\n",
        "from gensim.models import Word2Vec\n",
        "from nltk.tokenize import word_tokenize\n",
        "from skntk import NeuralTangentKernel as NTK\n",
        "import ast\n",
        "\n"
      ]
    },
    {
      "cell_type": "code",
      "execution_count": 3,
      "metadata": {
        "colab": {
          "base_uri": "https://localhost:8080/"
        },
        "id": "ERTLvLcSOU_M",
        "outputId": "552b255f-8897-4234-bc66-1ef59ab05f6e"
      },
      "outputs": [
        {
          "name": "stdout",
          "output_type": "stream",
          "text": [
            "Mounted at /content/drive\n"
          ]
        }
      ],
      "source": [
        "from google.colab import drive\n",
        "drive.mount('/content/drive')\n"
      ]
    },
    {
      "cell_type": "code",
      "execution_count": 4,
      "metadata": {
        "colab": {
          "base_uri": "https://localhost:8080/"
        },
        "id": "S9rsFwNTTRxf",
        "outputId": "690c2116-f0e3-4abf-a4ce-bf20eecf67cb"
      },
      "outputs": [
        {
          "name": "stderr",
          "output_type": "stream",
          "text": [
            "[nltk_data] Downloading package punkt to /root/nltk_data...\n",
            "[nltk_data]   Unzipping tokenizers/punkt.zip.\n"
          ]
        },
        {
          "data": {
            "text/plain": [
              "True"
            ]
          },
          "execution_count": 4,
          "metadata": {},
          "output_type": "execute_result"
        }
      ],
      "source": [
        "\n",
        "\n",
        "data = pd.read_csv(\"/content/drive/MyDrive/preprocessed_data.csv\")\n",
        "text_column = data[\"preprocessed_joke\"]  # Replace with your actual column name\n",
        "import nltk\n",
        "nltk.download('punkt')\n"
      ]
    },
    {
      "cell_type": "code",
      "execution_count": 5,
      "metadata": {
        "id": "ew2VJsWITrpK"
      },
      "outputs": [],
      "source": [
        "\n",
        "\n",
        "# Step 1: Load and Preprocess the Dat\n",
        "\n",
        "# Fill null values with empty strings\n",
        "data['preprocessed_joke'].fillna('', inplace=True)\n",
        "\n",
        "# Preprocess text and tokenize\n",
        "data['preprocessed_joke'] = data['preprocessed_joke'].apply(lambda x: word_tokenize(x.lower()))\n",
        "\n",
        "# Step 2: Train Word2Vec Model\n",
        "word2vec_model = Word2Vec(sentences=data['preprocessed_joke'], vector_size=300, window=5, sg=1)\n",
        "\n",
        "# Step 3: Generate Word Embeddings\n",
        "word_embeddings = dict(zip(word2vec_model.wv.index_to_key, word2vec_model.wv.vectors))\n",
        "\n",
        "# Function to compute document embedding\n",
        "def document_embedding(document, embeddings):\n",
        "    doc_vector = np.zeros((300,))\n",
        "    count = 0\n",
        "    for word in document:\n",
        "        if word in embeddings:\n",
        "            doc_vector += embeddings[word]\n",
        "            count += 1\n",
        "    if count != 0:\n",
        "        doc_vector /= count\n",
        "    return doc_vector\n",
        "\n",
        "# Compute document embeddings for each joke\n",
        "document_embeddings = []\n",
        "for joke in data['preprocessed_joke']:\n",
        "    doc_emb = document_embedding(joke, word_embeddings)\n",
        "    document_embeddings.append(doc_emb)\n",
        "\n",
        "# Create a DataFrame with document embeddings\n",
        "document_embeddings_df = pd.DataFrame(document_embeddings, columns=[f'emb_{i}' for i in range(300)])\n",
        "\n",
        "# Concatenate the document embeddings DataFrame with the original data\n",
        "data_with_embeddings = pd.concat([data, document_embeddings_df], axis=1)\n",
        "\n",
        "# Save the data with embeddings to a CSV file\n",
        "data_with_embeddings.to_csv('data_with_embeddings.csv', index=False)\n",
        "\n",
        "# Create document embeddings for each document\n",
        "X = np.array([document_embedding(doc, word_embeddings) for doc in data['preprocessed_joke']])\n",
        "y = data['joke_type']  # Replace 'target_column' with the actual name of your target column\n",
        "\n"
      ]
    },
    {
      "cell_type": "code",
      "execution_count": 6,
      "metadata": {
        "id": "CVrQR4-qT6Bb"
      },
      "outputs": [],
      "source": [
        " # Step 5: Train SVM Model\n",
        "X_train, X_test, y_train, y_test = train_test_split(X, y, test_size=0.2, random_state=42)\n"
      ]
    },
    {
      "cell_type": "markdown",
      "metadata": {},
      "source": [
        "SVM"
      ]
    },
    {
      "cell_type": "code",
      "execution_count": null,
      "metadata": {
        "colab": {
          "base_uri": "https://localhost:8080/"
        },
        "id": "Z5GnKXYgUn3_",
        "outputId": "46302bf4-660b-497f-ea4a-8be74d7e4a05"
      },
      "outputs": [
        {
          "name": "stdout",
          "output_type": "stream",
          "text": [
            "Accuracy: 0.7394784995425434\n"
          ]
        }
      ],
      "source": [
        "svm_model = SVC(kernel='rbf')\n",
        "svm_model.fit(X_train, y_train)\n",
        "\n",
        "# Step 6: Evaluate the Model\n",
        "y_pred = svm_model.predict(X_test)\n",
        "accuracy = accuracy_score(y_test, y_pred)\n",
        "print(\"Accuracy:\", accuracy)\n"
      ]
    },
    {
      "cell_type": "code",
      "execution_count": null,
      "metadata": {
        "colab": {
          "base_uri": "https://localhost:8080/"
        },
        "id": "PNPj-EaxWFU9",
        "outputId": "4538e35f-a993-4a6b-8382-822cb2340937"
      },
      "outputs": [
        {
          "name": "stdout",
          "output_type": "stream",
          "text": [
            "Classification Report:\n",
            "               precision    recall  f1-score   support\n",
            "\n",
            "           0     0.6329    0.7417    0.6830      1088\n",
            "           1     0.6883    0.5849    0.6324      1125\n",
            "           2     0.6497    0.6376    0.6436      1079\n",
            "           3     0.9982    1.0000    0.9991      1080\n",
            "\n",
            "    accuracy                         0.7395      4372\n",
            "   macro avg     0.7423    0.7411    0.7395      4372\n",
            "weighted avg     0.7415    0.7395    0.7383      4372\n",
            "\n",
            "Overall Accuracy: 0.7394784995425434\n",
            "\n",
            "Accuracy per class:\n",
            "Class '0': 0.7417\n",
            "Class '1': 0.5849\n",
            "Class '2': 0.6376\n",
            "Class '3': 1.0000\n"
          ]
        }
      ],
      "source": [
        "from sklearn.metrics import classification_report, accuracy_score\n",
        "\n",
        "# Calculate precision, recall, f1-score, and support for each class and overall\n",
        "report = classification_report(y_test, y_pred, digits=4)\n",
        "\n",
        "# Print the classification report\n",
        "print(\"Classification Report:\\n\", report)\n",
        "\n",
        "# Calculate accuracy\n",
        "accuracy = accuracy_score(y_test, y_pred)\n",
        "print(\"Overall Accuracy:\", accuracy)\n",
        "\n",
        "# Calculate accuracy for each class\n",
        "accuracy_per_class = {}\n",
        "for label in set(y_test):\n",
        "    mask = (y_test == label)\n",
        "    accuracy_per_class[label] = accuracy_score(y_test[mask], y_pred[mask])\n",
        "\n",
        "# Print accuracy for each class\n",
        "print(\"\\nAccuracy per class:\")\n",
        "for label, acc in accuracy_per_class.items():\n",
        "    print(f\"Class '{label}': {acc:.4f}\")\n",
        "\n"
      ]
    },
    {
      "cell_type": "code",
      "execution_count": 7,
      "metadata": {
        "colab": {
          "base_uri": "https://localhost:8080/"
        },
        "id": "axSAMwBUIrRz",
        "outputId": "d64ff7b4-c260-4c8c-a907-f64ed62c14eb"
      },
      "outputs": [
        {
          "name": "stdout",
          "output_type": "stream",
          "text": [
            "Accuracy: 0.7328453796889296\n"
          ]
        }
      ],
      "source": [
        "svm_model = SVC(kernel='poly')\n",
        "svm_model.fit(X_train, y_train)\n",
        "\n",
        "# Step 6: Evaluate the Model\n",
        "y_pred = svm_model.predict(X_test)\n",
        "accuracy = accuracy_score(y_test, y_pred)\n",
        "print(\"Accuracy:\", accuracy)\n"
      ]
    },
    {
      "cell_type": "code",
      "execution_count": 8,
      "metadata": {
        "colab": {
          "base_uri": "https://localhost:8080/"
        },
        "id": "vDHIc79VJkeq",
        "outputId": "ad33fb0e-c418-4a97-8240-9836d50ad617"
      },
      "outputs": [
        {
          "name": "stdout",
          "output_type": "stream",
          "text": [
            "Classification Report:\n",
            "               precision    recall  f1-score   support\n",
            "\n",
            "           0     0.6165    0.7610    0.6812      1088\n",
            "           1     0.7089    0.5520    0.6207      1125\n",
            "           2     0.6439    0.6284    0.6360      1079\n",
            "           3     0.9791    0.9972    0.9881      1080\n",
            "\n",
            "    accuracy                         0.7328      4372\n",
            "   macro avg     0.7371    0.7347    0.7315      4372\n",
            "weighted avg     0.7366    0.7328    0.7303      4372\n",
            "\n",
            "Overall Accuracy: 0.7328453796889296\n",
            "\n",
            "Accuracy per class:\n",
            "Class '0': 0.7610\n",
            "Class '1': 0.5520\n",
            "Class '2': 0.6284\n",
            "Class '3': 0.9972\n"
          ]
        }
      ],
      "source": [
        "from sklearn.metrics import classification_report, accuracy_score\n",
        "\n",
        "# Calculate precision, recall, f1-score, and support for each class and overall\n",
        "report = classification_report(y_test, y_pred, digits=4)\n",
        "\n",
        "# Print the classification report\n",
        "print(\"Classification Report:\\n\", report)\n",
        "\n",
        "# Calculate accuracy\n",
        "accuracy = accuracy_score(y_test, y_pred)\n",
        "print(\"Overall Accuracy:\", accuracy)\n",
        "\n",
        "# Calculate accuracy for each class\n",
        "accuracy_per_class = {}\n",
        "for label in set(y_test):\n",
        "    mask = (y_test == label)\n",
        "    accuracy_per_class[label] = accuracy_score(y_test[mask], y_pred[mask])\n",
        "\n",
        "# Print accuracy for each class\n",
        "print(\"\\nAccuracy per class:\")\n",
        "for label, acc in accuracy_per_class.items():\n",
        "    print(f\"Class '{label}': {acc:.4f}\")\n",
        "\n"
      ]
    },
    {
      "cell_type": "markdown",
      "metadata": {
        "id": "nJb30vKJJ7D4"
      },
      "source": [
        "KNN"
      ]
    },
    {
      "cell_type": "code",
      "execution_count": 13,
      "metadata": {
        "colab": {
          "base_uri": "https://localhost:8080/"
        },
        "id": "sbxa-uqPJ65J",
        "outputId": "56fc45e5-e0a5-4297-ad46-aabb4fdea93a"
      },
      "outputs": [
        {
          "name": "stdout",
          "output_type": "stream",
          "text": [
            "Accuracy: 0.6422689844464776\n"
          ]
        }
      ],
      "source": [
        "from sklearn.neighbors import KNeighborsClassifier\n",
        "\n",
        "# Initialize k-NN classifier\n",
        "knn_clf = KNeighborsClassifier(n_neighbors=5)  # You can adjust the number of neighbors (k) as needed\n",
        "\n",
        "# Train the k-NN classifier\n",
        "knn_clf.fit(X_train, y_train)\n",
        "\n",
        "# Predict labels for test set\n",
        "y_pred = knn_clf.predict(X_test)\n",
        "\n",
        "# Calculate accuracy\n",
        "accuracy = accuracy_score(y_test, y_pred)\n",
        "print(\"Accuracy:\", accuracy)"
      ]
    },
    {
      "cell_type": "code",
      "execution_count": 14,
      "metadata": {
        "colab": {
          "base_uri": "https://localhost:8080/"
        },
        "id": "JTGszdVsKA2Z",
        "outputId": "279a8a25-6287-4a9a-e039-602ae5aac6fb"
      },
      "outputs": [
        {
          "name": "stdout",
          "output_type": "stream",
          "text": [
            "Classification Report:\n",
            "               precision    recall  f1-score   support\n",
            "\n",
            "           0     0.6084    0.4384    0.5096      1088\n",
            "           1     0.6298    0.4249    0.5074      1125\n",
            "           2     0.4930    0.7164    0.5841      1079\n",
            "           3     0.8565    1.0000    0.9227      1080\n",
            "\n",
            "    accuracy                         0.6423      4372\n",
            "   macro avg     0.6469    0.6449    0.6309      4372\n",
            "weighted avg     0.6467    0.6423    0.6295      4372\n",
            "\n",
            "Overall Accuracy: 0.6422689844464776\n",
            "\n",
            "Accuracy per class:\n",
            "Class '0': 0.4384\n",
            "Class '1': 0.4249\n",
            "Class '2': 0.7164\n",
            "Class '3': 1.0000\n"
          ]
        }
      ],
      "source": [
        "from sklearn.metrics import classification_report, accuracy_score\n",
        "\n",
        "# Calculate precision, recall, f1-score, and support for each class and overall\n",
        "report = classification_report(y_test, y_pred, digits=4)\n",
        "\n",
        "# Print the classification report\n",
        "print(\"Classification Report:\\n\", report)\n",
        "\n",
        "# Calculate accuracy\n",
        "accuracy = accuracy_score(y_test, y_pred)\n",
        "print(\"Overall Accuracy:\", accuracy)\n",
        "\n",
        "# Calculate accuracy for each class\n",
        "accuracy_per_class = {}\n",
        "for label in set(y_test):\n",
        "    mask = (y_test == label)\n",
        "    accuracy_per_class[label] = accuracy_score(y_test[mask], y_pred[mask])\n",
        "\n",
        "# Print accuracy for each class\n",
        "print(\"\\nAccuracy per class:\")\n",
        "for label, acc in accuracy_per_class.items():\n",
        "    print(f\"Class '{label}': {acc:.4f}\")\n",
        "\n"
      ]
    },
    {
      "cell_type": "markdown",
      "metadata": {
        "id": "5O6EvCuKYo2a"
      },
      "source": [
        "XG-B"
      ]
    },
    {
      "cell_type": "code",
      "execution_count": null,
      "metadata": {
        "colab": {
          "base_uri": "https://localhost:8080/"
        },
        "id": "Fz6FYispWFPC",
        "outputId": "10227329-8913-4e5d-9b33-a61111cd658b"
      },
      "outputs": [
        {
          "name": "stdout",
          "output_type": "stream",
          "text": [
            "Accuracy: 0.7344464775846294\n"
          ]
        }
      ],
      "source": [
        "# Initialize and train the XGBoost classifier\n",
        "xgb_classifier = XGBClassifier(objective='multi:softprob' if len(set(y_train)) > 2 else 'binary:logistic')\n",
        "# Adjust objective for multi-class or binary classification\n",
        "xgb_classifier.fit(X_train, y_train)\n",
        "\n",
        "# Evaluate the classifier\n",
        "y_pred = xgb_classifier.predict(X_test)\n",
        "accuracy = accuracy_score(y_test, y_pred)\n",
        "print(\"Accuracy:\", accuracy)"
      ]
    },
    {
      "cell_type": "code",
      "execution_count": null,
      "metadata": {
        "colab": {
          "base_uri": "https://localhost:8080/"
        },
        "id": "wlL16_BNY41y",
        "outputId": "78b36e87-2344-42a7-ea44-b354a95aeed9"
      },
      "outputs": [
        {
          "name": "stdout",
          "output_type": "stream",
          "text": [
            "Classification Report:\n",
            "               precision    recall  f1-score   support\n",
            "\n",
            "           0     0.6432    0.7206    0.6797      1088\n",
            "           1     0.6582    0.6009    0.6283      1125\n",
            "           2     0.6443    0.6228    0.6334      1079\n",
            "           3     0.9963    0.9991    0.9977      1080\n",
            "\n",
            "    accuracy                         0.7344      4372\n",
            "   macro avg     0.7355    0.7358    0.7347      4372\n",
            "weighted avg     0.7346    0.7344    0.7336      4372\n",
            "\n",
            "Overall Accuracy: 0.7344464775846294\n",
            "\n",
            "Accuracy per class:\n",
            "Class '0': 0.7206\n",
            "Class '1': 0.6009\n",
            "Class '2': 0.6228\n",
            "Class '3': 0.9991\n"
          ]
        }
      ],
      "source": [
        "from sklearn.metrics import classification_report, accuracy_score\n",
        "\n",
        "# Calculate precision, recall, f1-score, and support for each class and overall\n",
        "report = classification_report(y_test, y_pred, digits=4)\n",
        "\n",
        "# Print the classification report\n",
        "print(\"Classification Report:\\n\", report)\n",
        "\n",
        "# Calculate accuracy\n",
        "accuracy = accuracy_score(y_test, y_pred)\n",
        "print(\"Overall Accuracy:\", accuracy)\n",
        "\n",
        "# Calculate accuracy for each class\n",
        "accuracy_per_class = {}\n",
        "for label in set(y_test):\n",
        "    mask = (y_test == label)\n",
        "    accuracy_per_class[label] = accuracy_score(y_test[mask], y_pred[mask])\n",
        "\n",
        "# Print accuracy for each class\n",
        "print(\"\\nAccuracy per class:\")\n",
        "for label, acc in accuracy_per_class.items():\n",
        "    print(f\"Class '{label}': {acc:.4f}\")\n",
        "\n"
      ]
    },
    {
      "cell_type": "markdown",
      "metadata": {},
      "source": [
        "NTK"
      ]
    },
    {
      "cell_type": "code",
      "execution_count": null,
      "metadata": {},
      "outputs": [],
      "source": []
    },
    {
      "cell_type": "code",
      "execution_count": null,
      "metadata": {},
      "outputs": [],
      "source": []
    },
    {
      "cell_type": "markdown",
      "metadata": {},
      "source": [
        "TSNE"
      ]
    },
    {
      "cell_type": "code",
      "execution_count": null,
      "metadata": {
        "colab": {
          "base_uri": "https://localhost:8080/",
          "height": 564
        },
        "id": "6zkXYJ5dhyNs",
        "outputId": "25bd4d51-951f-49c6-970b-b066a0cecf51"
      },
      "outputs": [
        {
          "data": {
            "image/png": "[encoded data removed]",
            "text/plain": [
              "<Figure size 1000x600 with 1 Axes>"
            ]
          },
          "metadata": {},
          "output_type": "display_data"
        }
      ],
      "source": [
        "import pandas as pd\n",
        "from sklearn.manifold import TSNE\n",
        "import matplotlib.pyplot as plt\n",
        "import seaborn as sns\n",
        "\n",
        "# Load the dataset\n",
        "data = pd.read_csv('/content/data_with_embeddings.csv')  # Update with your file path\n",
        "# Assuming your CSV file has columns for each GloVe embedding dimension, e.g., 'glove_1', 'glove_2', ..., 'glove_100'\n",
        "# And a column named 'label' for the joke type\n",
        "\n",
        "\n",
        "# Extract features (GloVe embeddings starting from the 6th column) and labels\n",
        "features = data.iloc[:,5:].values  # Extracting columns from the 6th to the second last column\n",
        "labels = data['joke_type'].values\n",
        "# Apply t-SNE\n",
        "tsne_model = TSNE(n_components=2, perplexity=30, n_iter=300, random_state=42)\n",
        "tsne_features = tsne_model.fit_transform(features)\n",
        "\n",
        "# Create a DataFrame for the t-SNE results\n",
        "tsne_df = pd.DataFrame(tsne_features, columns=['Dim1', 'Dim2'])\n",
        "tsne_df['label'] = labels\n",
        "\n",
        "# Plot using seaborn\n",
        "plt.figure(figsize=(10, 6))\n",
        "sns.scatterplot(\n",
        "    x='Dim1', y='Dim2',\n",
        "    hue='label',\n",
        "    palette=sns.color_palette(\"hsv\", len(set(labels))),\n",
        "    data=tsne_df,\n",
        "    legend=\"full\",\n",
        "    alpha=0.7\n",
        ")\n",
        "plt.title('t-SNE plot of GloVe embeddings')\n",
        "plt.show()\n"
      ]
    }
  ],
  "metadata": {
    "colab": {
      "provenance": []
    },
    "kernelspec": {
      "display_name": "Python 3",
      "name": "python3"
    },
    "language_info": {
      "name": "python"
    }
  },
  "nbformat": 4,
  "nbformat_minor": 0
}
