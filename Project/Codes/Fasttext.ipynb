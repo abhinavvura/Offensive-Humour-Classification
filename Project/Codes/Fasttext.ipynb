{
  "nbformat": 4,
  "nbformat_minor": 0,
  "metadata": {
    "colab": {
      "provenance": []
    },
    "kernelspec": {
      "name": "python3",
      "display_name": "Python 3"
    },
    "language_info": {
      "name": "python"
    }
  },
  "cells": [
    {
      "cell_type": "code",
      "execution_count": null,
      "metadata": {
        "colab": {
          "base_uri": "https://localhost:8080/"
        },
        "id": "9uiPFEzoL4Tq",
        "outputId": "5ac59bcb-46ba-4f34-cd69-f9e3bb2dd628"
      },
      "outputs": [
        {
          "output_type": "stream",
          "name": "stdout",
          "text": [
            "Requirement already satisfied: scikit-ntk in /usr/local/lib/python3.10/dist-packages (1.1.3)\n",
            "Requirement already satisfied: scikit-learn<2.0.0,>=1.1.3 in /usr/local/lib/python3.10/dist-packages (from scikit-ntk) (1.2.2)\n",
            "Requirement already satisfied: numpy>=1.17.3 in /usr/local/lib/python3.10/dist-packages (from scikit-learn<2.0.0,>=1.1.3->scikit-ntk) (1.25.2)\n",
            "Requirement already satisfied: scipy>=1.3.2 in /usr/local/lib/python3.10/dist-packages (from scikit-learn<2.0.0,>=1.1.3->scikit-ntk) (1.11.4)\n",
            "Requirement already satisfied: joblib>=1.1.1 in /usr/local/lib/python3.10/dist-packages (from scikit-learn<2.0.0,>=1.1.3->scikit-ntk) (1.4.2)\n",
            "Requirement already satisfied: threadpoolctl>=2.0.0 in /usr/local/lib/python3.10/dist-packages (from scikit-learn<2.0.0,>=1.1.3->scikit-ntk) (3.5.0)\n"
          ]
        }
      ],
      "source": [
        "!pip install scikit-ntk"
      ]
    },
    {
      "cell_type": "code",
      "source": [
        "import pandas as pd\n",
        "import matplotlib.pyplot as plt\n",
        "import seaborn as sns\n",
        "from sklearn.feature_extraction.text import CountVectorizer\n",
        "import re\n",
        "from sklearn.manifold import TSNE\n",
        "import csv\n",
        "from collections import Counter, defaultdict\n",
        "import math\n",
        "import numpy as np\n",
        "from sklearn.model_selection import train_test_split\n",
        "from sklearn.svm import SVC\n",
        "from sklearn.metrics import accuracy_score\n",
        "from sklearn.preprocessing import StandardScaler\n",
        "from sklearn.ensemble import RandomForestClassifier\n",
        "from xgboost import XGBClassifier\n",
        "import xgboost as xgb\n",
        "import gensim\n",
        "import gensim.downloader\n",
        "from gensim.models import Word2Vec\n",
        "from nltk.tokenize import word_tokenize\n",
        "from skntk import NeuralTangentKernel as NTK\n",
        "import ast\n",
        "\n"
      ],
      "metadata": {
        "id": "VFkOsQx3MNgn"
      },
      "execution_count": null,
      "outputs": []
    },
    {
      "cell_type": "code",
      "source": [
        "from google.colab import drive\n",
        "drive.mount('/content/drive')\n"
      ],
      "metadata": {
        "colab": {
          "base_uri": "https://localhost:8080/"
        },
        "id": "G__WyzxIMWYy",
        "outputId": "1ced3176-8bfc-423d-88f8-82a411bb21e1"
      },
      "execution_count": null,
      "outputs": [
        {
          "output_type": "stream",
          "name": "stdout",
          "text": [
            "Mounted at /content/drive\n"
          ]
        }
      ]
    },
    {
      "cell_type": "code",
      "source": [
        "import gensim.downloader as api\n",
        "import gensim\n",
        "\n",
        "# Check Gensim version\n",
        "print(\"Gensim version:\", gensim.__version__)\n",
        "\n",
        "# Load pre-trained FastText word embeddings\n",
        "# The available FastText models can be found in Gensim's API dataset list\n",
        "word_vectors = api.load('fasttext-wiki-news-subwords-300')\n",
        "\n"
      ],
      "metadata": {
        "colab": {
          "base_uri": "https://localhost:8080/"
        },
        "id": "vTe719yqMt0l",
        "outputId": "0d67427d-9bc2-4b68-8747-00ab99a51c6d"
      },
      "execution_count": null,
      "outputs": [
        {
          "output_type": "stream",
          "name": "stdout",
          "text": [
            "Gensim version: 4.3.2\n",
            "Vector for 'king': [-1.2063e-01  5.1695e-03 -1.2447e-02 -7.8528e-03 -2.3738e-02 -8.2595e-02\n",
            "  4.5790e-02 -1.5382e-01  6.4550e-02  1.2893e-01  2.7643e-02  1.5958e-02\n",
            "  7.7559e-02  6.0516e-02  1.2737e-01  8.4766e-02  6.3890e-02 -1.7687e-01\n",
            "  4.3017e-02 -1.8031e-02 -3.3041e-02  2.1930e-02 -1.1328e-02  6.6453e-02\n",
            "  1.5826e-01 -2.3008e-02 -4.3616e-03 -2.2379e-02  4.4891e-02  3.0103e-03\n",
            " -1.5565e-02 -7.6785e-02 -9.2186e-02  5.7907e-02 -2.7658e-02  5.4500e-03\n",
            "  1.8975e-02  4.2939e-02  3.4704e-03  4.0449e-02 -4.0245e-03 -1.1594e-01\n",
            " -5.8337e-03  3.2509e-02 -8.6535e-02  7.2000e-02 -2.2299e-02  1.3079e-02\n",
            " -3.9515e-02  6.8996e-02  9.2300e-02 -7.5371e-02  5.9412e-03 -3.4945e-02\n",
            " -3.3417e-02 -9.9982e-02  1.6438e-02  6.3739e-02 -6.2391e-02  7.8285e-04\n",
            " -2.9210e-02 -9.6416e-02  7.2910e-02  4.5905e-02 -8.3387e-02  7.1969e-02\n",
            "  4.0932e-02 -5.6454e-03  1.3709e-01 -1.1793e-01 -7.1011e-02 -7.1963e-02\n",
            "  6.5600e-02 -4.6315e-02 -1.7200e-02  3.4434e-02  4.4218e-02 -9.6354e-03\n",
            " -6.8105e-02  3.0810e-02  1.5424e-02  5.6398e-02  4.4225e-02  8.0547e-02\n",
            " -5.2413e-02 -3.6509e-02  2.6141e-02  2.5574e-02 -3.4346e-02 -4.5879e-02\n",
            " -1.7031e-02  5.1450e-02 -1.2766e-01 -8.6838e-02  1.1084e-02  1.3282e-01\n",
            "  2.0850e-02  7.0881e-02 -5.9277e-03  2.2612e-02  4.8919e-02 -1.2490e-02\n",
            "  1.5460e-01 -6.1251e-03 -8.9369e-02 -2.3707e-01  2.0696e-02 -3.7604e-02\n",
            " -8.3793e-02 -2.5512e-03 -4.0426e-02  1.0575e-01  9.7514e-02  4.4101e-02\n",
            "  4.1732e-02  7.4080e-02  6.3560e-02  3.1801e-02 -1.4961e-02 -4.3675e-03\n",
            " -1.4893e-02  8.6208e-02 -2.0204e-02 -2.0797e-03  7.7648e-02 -1.9620e-03\n",
            "  3.2115e-02 -1.5615e-01 -3.6702e-02  1.2009e-01 -8.0633e-02  4.2894e-02\n",
            " -3.5265e-02  2.2693e-02 -3.3743e-02  1.7573e-02 -7.5089e-02  9.8873e-02\n",
            "  2.7042e-02 -1.7185e-02  1.7489e-02 -1.1096e-01  7.5456e-02 -4.2234e-02\n",
            " -3.7115e-02 -1.2356e-02  1.1243e-02 -4.6907e-02 -5.5681e-02 -6.5216e-02\n",
            "  5.4923e-02  3.7514e-02  5.0259e-02 -7.4453e-02 -2.0440e-02 -8.3293e-02\n",
            " -2.3010e-02 -4.2105e-02 -2.8792e-02 -1.9139e-02  3.6758e-02  7.7620e-02\n",
            " -6.3909e-02 -2.9304e-02  3.1128e-02 -1.2056e-02 -3.0854e-02 -2.3162e-02\n",
            " -4.4762e-02  1.2797e-01 -7.7709e-03 -7.7466e-02 -2.7976e-02  5.1038e-02\n",
            " -5.5217e-02  7.5312e-02  3.4093e-02 -3.4833e-03  9.7360e-03  5.8273e-02\n",
            "  9.3454e-02 -4.3781e-02 -4.5870e-02 -7.3544e-02 -4.1269e-02 -9.1712e-02\n",
            " -1.5840e-01  1.1790e-01  3.4210e-02 -2.4719e-02  6.1251e-02  8.2068e-02\n",
            " -1.1710e-01  2.9949e-02 -7.1442e-02  2.2185e-02 -2.4418e-02 -2.5316e-02\n",
            " -5.3970e-02  1.1615e-01 -1.9979e-01  6.8714e-02 -6.1776e-03 -3.9478e-02\n",
            " -1.8856e-02  7.8819e-02  3.0709e-02 -4.7448e-02 -5.0356e-02 -4.0706e-02\n",
            "  1.4722e-01 -4.6420e-02  1.1976e-05  9.2290e-02 -6.1358e-02  6.0161e-05\n",
            "  1.4491e-02 -2.4847e-02  5.6051e-02  1.9206e-02  3.2446e-02  5.0245e-03\n",
            "  1.9242e-02  1.3482e-01  7.3311e-03 -1.0219e-01  7.6724e-02  9.7512e-02\n",
            " -4.9655e-02 -7.2788e-03 -1.1748e-01 -3.5783e-02 -6.9954e-02 -8.8086e-03\n",
            " -1.5677e-02  6.4489e-02 -7.2463e-02 -5.0428e-03  7.5461e-02 -6.0999e-02\n",
            "  9.2653e-02 -5.3002e-02 -9.8853e-02  4.4468e-02  1.5699e-03  1.0594e-02\n",
            "  5.4306e-02  2.1943e-02 -1.4941e-02 -2.9272e-02  1.0173e-01 -2.7459e-02\n",
            " -1.7016e-02  3.7454e-02  8.5015e-02  8.6834e-02 -7.6342e-02  9.5069e-02\n",
            "  4.6912e-02 -2.2718e-02 -7.9839e-02  6.6125e-02  6.2540e-02  2.5836e-02\n",
            "  2.4580e-02  5.1879e-02 -1.8032e-04  4.8657e-02 -1.1875e-01 -2.4103e-02\n",
            "  1.5130e-03  8.0515e-02 -1.0280e-01 -1.3489e-02  7.1108e-02 -6.0643e-02\n",
            " -2.3006e-02 -9.8232e-03 -8.7159e-02  8.5388e-02  5.3778e-02 -8.4714e-02\n",
            "  5.4218e-02 -4.1406e-02  1.0716e-02  6.9728e-02 -8.9833e-03 -8.0539e-02\n",
            " -3.0566e-02  1.0912e-01 -3.9061e-02 -6.3893e-02 -3.3986e-02 -2.0095e-02\n",
            " -6.0904e-02  1.5957e-02 -1.0371e-02  6.7261e-02 -3.0458e-02 -3.1992e-02]\n",
            "Shape of the embedding: (300,)\n"
          ]
        }
      ]
    },
    {
      "cell_type": "code",
      "source": [
        "import gensim.downloader as api\n",
        "import numpy as np\n",
        "import pandas as pd\n",
        "\n",
        "# Load the pre-trained FastText word vectors\n",
        "word_vectors = api.load('fasttext-wiki-news-subwords-300')\n",
        "\n",
        "# Load your pre-processed data from the CSV file\n",
        "data = pd.read_csv('/content/drive/MyDrive/preprocessed_data.csv')\n",
        "\n",
        "# Assuming 'preprocessed_joke' column contains pre-processed text data\n",
        "texts = data['preprocessed_joke'].astype(str)\n",
        "\n",
        "# Function to generate embeddings for each document\n",
        "def generate_embedding(text):\n",
        "    # Split the text into words\n",
        "    text = str(text)\n",
        "    words = text.split()\n",
        "    # Initialize an empty array to store word embeddings\n",
        "    embeddings = []\n",
        "    for word in words:\n",
        "        # Check if the word is in the vocabulary of the pre-trained FastText model\n",
        "        if word in word_vectors:\n",
        "            # If yes, retrieve its word embedding\n",
        "            embeddings.append(word_vectors[word])\n",
        "        else:\n",
        "            # If the word is not in the vocabulary, append zeros (or any other default value)\n",
        "            embeddings.append(np.zeros(300))  # Assuming FastText vectors are of size 300\n",
        "    # Calculate the average embedding for the document\n",
        "    if embeddings:\n",
        "        return np.mean(embeddings, axis=0)\n",
        "    else:\n",
        "        return np.zeros(300)  # Return zeros if no embeddings found\n",
        "\n",
        "# Generate embeddings for each document in your dataset\n",
        "embeddings = np.array([generate_embedding(text) for text in texts])\n",
        "\n",
        "print(\"Embeddings shape:\", embeddings.shape)\n"
      ],
      "metadata": {
        "colab": {
          "base_uri": "https://localhost:8080/"
        },
        "id": "t5E9V_0qPDHf",
        "outputId": "da854e96-3e4f-4938-f1d3-57a5f1dfffed"
      },
      "execution_count": null,
      "outputs": [
        {
          "output_type": "stream",
          "name": "stdout",
          "text": [
            "Embeddings shape: (21860, 300)\n"
          ]
        }
      ]
    },
    {
      "cell_type": "code",
      "source": [
        "embeddings_df = pd.DataFrame(embeddings)\n",
        "embeddings_df['joke_type'] = data['joke_type']\n",
        "\n",
        "embeddings_df.to_csv('word_embeddings.csv', index=False)\n"
      ],
      "metadata": {
        "id": "gzKejY8TQuMv"
      },
      "execution_count": null,
      "outputs": []
    },
    {
      "cell_type": "code",
      "source": [
        "# Assuming your dataset also contains labels in 'label' column\n",
        "labels = data['joke_type']\n",
        "\n",
        "# Split the dataset into training and testing sets\n",
        "X_train, X_test, y_train, y_test = train_test_split(embeddings, labels, test_size=0.2, random_state=42)"
      ],
      "metadata": {
        "id": "f9CcQZT2RV7c"
      },
      "execution_count": null,
      "outputs": []
    },
    {
      "cell_type": "code",
      "source": [
        "\n",
        "\n",
        "# Initialize and train the SVM classifier\n",
        "svm_classifier = SVC(kernel='rbf')  # You can choose different kernels as per your requirement\n",
        "svm_classifier.fit(X_train, y_train)\n",
        "\n",
        "# Evaluate the classifier\n",
        "y_pred = svm_classifier.predict(X_test)\n",
        "accuracy = accuracy_score(y_test, y_pred)\n",
        "print(\"Accuracy:\", accuracy)\n",
        "\n",
        "# Save the trained model\n",
        "import joblib\n",
        "joblib.dump(svm_classifier, 'svm_model.pkl')\n"
      ],
      "metadata": {
        "colab": {
          "base_uri": "https://localhost:8080/"
        },
        "id": "AQQNBQg8RaI-",
        "outputId": "7ee460d0-50aa-4123-a17d-e4a923876f47"
      },
      "execution_count": null,
      "outputs": [
        {
          "output_type": "stream",
          "name": "stdout",
          "text": [
            "Accuracy: 0.7731015553522416\n"
          ]
        },
        {
          "output_type": "execute_result",
          "data": {
            "text/plain": [
              "['svm_model.pkl']"
            ]
          },
          "metadata": {},
          "execution_count": 10
        }
      ]
    },
    {
      "cell_type": "code",
      "source": [
        "from sklearn.metrics import classification_report, accuracy_score\n",
        "\n",
        "# Calculate precision, recall, f1-score, and support for each class and overall\n",
        "report = classification_report(y_test, y_pred, digits=4)\n",
        "\n",
        "# Print the classification report\n",
        "print(\"Classification Report:\\n\", report)\n",
        "\n",
        "# Calculate accuracy\n",
        "accuracy = accuracy_score(y_test, y_pred)\n",
        "print(\"Overall Accuracy:\", accuracy)\n",
        "\n",
        "# Calculate accuracy for each class\n",
        "accuracy_per_class = {}\n",
        "for label in set(y_test):\n",
        "    mask = (y_test == label)\n",
        "    accuracy_per_class[label] = accuracy_score(y_test[mask], y_pred[mask])\n",
        "\n",
        "# Print accuracy for each class\n",
        "print(\"\\nAccuracy per class:\")\n",
        "for label, acc in accuracy_per_class.items():\n",
        "    print(f\"Class '{label}': {acc:.4f}\")\n",
        "\n",
        "# Save the trained model\n",
        "import joblib\n",
        "joblib.dump(svm_classifier, 'svm_model.pkl')\n"
      ],
      "metadata": {
        "colab": {
          "base_uri": "https://localhost:8080/"
        },
        "id": "C3l4Ey3kRckw",
        "outputId": "2317a735-fd68-492e-851f-e656ea40d93b"
      },
      "execution_count": null,
      "outputs": [
        {
          "output_type": "stream",
          "name": "stdout",
          "text": [
            "Classification Report:\n",
            "               precision    recall  f1-score   support\n",
            "\n",
            "           0     0.6769    0.8125    0.7385      1088\n",
            "           1     0.7120    0.6329    0.6701      1125\n",
            "           2     0.7140    0.6525    0.6818      1079\n",
            "           3     1.0000    1.0000    1.0000      1080\n",
            "\n",
            "    accuracy                         0.7731      4372\n",
            "   macro avg     0.7757    0.7745    0.7726      4372\n",
            "weighted avg     0.7749    0.7731    0.7715      4372\n",
            "\n",
            "Overall Accuracy: 0.7731015553522416\n",
            "\n",
            "Accuracy per class:\n",
            "Class '0': 0.8125\n",
            "Class '1': 0.6329\n",
            "Class '2': 0.6525\n",
            "Class '3': 1.0000\n"
          ]
        },
        {
          "output_type": "execute_result",
          "data": {
            "text/plain": [
              "['svm_model.pkl']"
            ]
          },
          "metadata": {},
          "execution_count": 11
        }
      ]
    },
    {
      "cell_type": "code",
      "source": [
        "\n",
        "\n",
        "# Initialize and train the SVM classifier\n",
        "svm_classifier = SVC(kernel='poly')  # You can choose different kernels as per your requirement\n",
        "svm_classifier.fit(X_train, y_train)\n",
        "\n",
        "# Evaluate the classifier\n",
        "y_pred = svm_classifier.predict(X_test)\n",
        "accuracy = accuracy_score(y_test, y_pred)\n",
        "print(\"Accuracy:\", accuracy)\n",
        "\n"
      ],
      "metadata": {
        "colab": {
          "base_uri": "https://localhost:8080/"
        },
        "id": "03kuEiEUReRS",
        "outputId": "a470c76a-c0ed-47bf-eeb7-4dd0ef2c42ac"
      },
      "execution_count": null,
      "outputs": [
        {
          "output_type": "stream",
          "name": "stdout",
          "text": [
            "Accuracy: 0.7694419030192132\n"
          ]
        }
      ]
    },
    {
      "cell_type": "code",
      "source": [
        "from sklearn.metrics import classification_report, accuracy_score\n",
        "\n",
        "# Calculate precision, recall, f1-score, and support for each class and overall\n",
        "report = classification_report(y_test, y_pred, digits=4)\n",
        "\n",
        "# Print the classification report\n",
        "print(\"Classification Report:\\n\", report)\n",
        "\n",
        "# Calculate accuracy\n",
        "accuracy = accuracy_score(y_test, y_pred)\n",
        "print(\"Overall Accuracy:\", accuracy)\n",
        "\n",
        "# Calculate accuracy for each class\n",
        "accuracy_per_class = {}\n",
        "for label in set(y_test):\n",
        "    mask = (y_test == label)\n",
        "    accuracy_per_class[label] = accuracy_score(y_test[mask], y_pred[mask])\n",
        "\n",
        "# Print accuracy for each class\n",
        "print(\"\\nAccuracy per class:\")\n",
        "for label, acc in accuracy_per_class.items():\n",
        "    print(f\"Class '{label}': {acc:.4f}\")\n",
        "\n",
        "# Save the trained model\n",
        "import joblib\n",
        "joblib.dump(svm_classifier, 'svm_model.pkl')\n"
      ],
      "metadata": {
        "colab": {
          "base_uri": "https://localhost:8080/"
        },
        "id": "Erd7rOWNRhhU",
        "outputId": "85a5458d-0a7a-4397-80d7-08c88a955529"
      },
      "execution_count": null,
      "outputs": [
        {
          "output_type": "stream",
          "name": "stdout",
          "text": [
            "Classification Report:\n",
            "               precision    recall  f1-score   support\n",
            "\n",
            "           0     0.6826    0.7987    0.7361      1088\n",
            "           1     0.6994    0.6578    0.6780      1125\n",
            "           2     0.7113    0.6256    0.6657      1079\n",
            "           3     0.9890    1.0000    0.9945      1080\n",
            "\n",
            "    accuracy                         0.7694      4372\n",
            "   macro avg     0.7706    0.7705    0.7686      4372\n",
            "weighted avg     0.7697    0.7694    0.7676      4372\n",
            "\n",
            "Overall Accuracy: 0.7694419030192132\n",
            "\n",
            "Accuracy per class:\n",
            "Class '0': 0.7987\n",
            "Class '1': 0.6578\n",
            "Class '2': 0.6256\n",
            "Class '3': 1.0000\n"
          ]
        },
        {
          "output_type": "execute_result",
          "data": {
            "text/plain": [
              "['svm_model.pkl']"
            ]
          },
          "metadata": {},
          "execution_count": 13
        }
      ]
    },
    {
      "cell_type": "markdown",
      "source": [
        "KNN"
      ],
      "metadata": {
        "id": "HiZ7Uk5MRiYl"
      }
    },
    {
      "cell_type": "code",
      "source": [
        "from sklearn.neighbors import KNeighborsClassifier\n",
        "\n",
        "# Initialize k-NN classifier\n",
        "knn_clf = KNeighborsClassifier(n_neighbors=5)  # You can adjust the number of neighbors (k) as needed\n",
        "\n",
        "# Train the k-NN classifier\n",
        "knn_clf.fit(X_train, y_train)\n",
        "\n",
        "# Predict labels for test set\n",
        "y_pred = knn_clf.predict(X_test)\n",
        "\n",
        "# Calculate accuracy\n",
        "accuracy = accuracy_score(y_test, y_pred)\n",
        "print(\"Accuracy:\", accuracy)"
      ],
      "metadata": {
        "colab": {
          "base_uri": "https://localhost:8080/"
        },
        "id": "gE4cVWxKRkYk",
        "outputId": "083a34af-d881-449c-9ef5-bee0efbe59c6"
      },
      "execution_count": null,
      "outputs": [
        {
          "output_type": "stream",
          "name": "stdout",
          "text": [
            "Accuracy: 0.6280878316559927\n"
          ]
        }
      ]
    },
    {
      "cell_type": "code",
      "source": [
        "from sklearn.metrics import classification_report, accuracy_score\n",
        "\n",
        "# Calculate precision, recall, f1-score, and support for each class and overall\n",
        "report = classification_report(y_test, y_pred, digits=4)\n",
        "\n",
        "# Print the classification report\n",
        "print(\"Classification Report:\\n\", report)\n",
        "\n",
        "# Calculate accuracy\n",
        "accuracy = accuracy_score(y_test, y_pred)\n",
        "print(\"Overall Accuracy:\", accuracy)\n",
        "\n",
        "# Calculate accuracy for each class\n",
        "accuracy_per_class = {}\n",
        "for label in set(y_test):\n",
        "    mask = (y_test == label)\n",
        "    accuracy_per_class[label] = accuracy_score(y_test[mask], y_pred[mask])\n",
        "\n",
        "# Print accuracy for each class\n",
        "print(\"\\nAccuracy per class:\")\n",
        "for label, acc in accuracy_per_class.items():\n",
        "    print(f\"Class '{label}': {acc:.4f}\")\n",
        "\n",
        "# Save the trained model\n",
        "import joblib\n",
        "joblib.dump(svm_classifier, 'svm_model.pkl')\n"
      ],
      "metadata": {
        "colab": {
          "base_uri": "https://localhost:8080/"
        },
        "id": "xWBlt9p8SZdk",
        "outputId": "5b43e5ad-99d0-4e46-9292-f59a1f5e207b"
      },
      "execution_count": null,
      "outputs": [
        {
          "output_type": "stream",
          "name": "stdout",
          "text": [
            "Classification Report:\n",
            "               precision    recall  f1-score   support\n",
            "\n",
            "           0     0.6853    0.4062    0.5101      1088\n",
            "           1     0.6541    0.4302    0.5190      1125\n",
            "           2     0.5305    0.6858    0.5982      1079\n",
            "           3     0.6784    1.0000    0.8084      1080\n",
            "\n",
            "    accuracy                         0.6281      4372\n",
            "   macro avg     0.6370    0.6306    0.6089      4372\n",
            "weighted avg     0.6373    0.6281    0.6078      4372\n",
            "\n",
            "Overall Accuracy: 0.6280878316559927\n",
            "\n",
            "Accuracy per class:\n",
            "Class '0': 0.4062\n",
            "Class '1': 0.4302\n",
            "Class '2': 0.6858\n",
            "Class '3': 1.0000\n"
          ]
        },
        {
          "output_type": "execute_result",
          "data": {
            "text/plain": [
              "['svm_model.pkl']"
            ]
          },
          "metadata": {},
          "execution_count": 15
        }
      ]
    },
    {
      "cell_type": "markdown",
      "source": [
        "RF"
      ],
      "metadata": {
        "id": "2bV7JOCqScDS"
      }
    },
    {
      "cell_type": "code",
      "source": [
        "# Initialize and train the Random Forest classifier\n",
        "rfc_classifier = RandomForestClassifier(n_estimators=200)  # You can adjust n_estimators for better performance\n",
        "rfc_classifier.fit(X_train, y_train)\n",
        "\n",
        "# Evaluate the classifier\n",
        "y_pred = rfc_classifier.predict(X_test)\n",
        "accuracy = accuracy_score(y_test, y_pred)\n",
        "print(\"Accuracy:\", accuracy)"
      ],
      "metadata": {
        "colab": {
          "base_uri": "https://localhost:8080/"
        },
        "id": "7VYM7Cs6ScyR",
        "outputId": "4fe5593f-30c4-4a17-a1bc-eced1243ed25"
      },
      "execution_count": null,
      "outputs": [
        {
          "output_type": "stream",
          "name": "stdout",
          "text": [
            "Accuracy: 0.7490850869167429\n"
          ]
        }
      ]
    },
    {
      "cell_type": "code",
      "source": [
        "from sklearn.metrics import classification_report, accuracy_score\n",
        "\n",
        "# Calculate precision, recall, f1-score, and support for each class and overall\n",
        "report = classification_report(y_test, y_pred, digits=4)\n",
        "\n",
        "# Print the classification report\n",
        "print(\"Classification Report:\\n\", report)\n",
        "\n",
        "# Calculate accuracy\n",
        "accuracy = accuracy_score(y_test, y_pred)\n",
        "print(\"Overall Accuracy:\", accuracy)\n",
        "\n",
        "# Calculate accuracy for each class\n",
        "accuracy_per_class = {}\n",
        "for label in set(y_test):\n",
        "    mask = (y_test == label)\n",
        "    accuracy_per_class[label] = accuracy_score(y_test[mask], y_pred[mask])\n",
        "\n",
        "# Print accuracy for each class\n",
        "print(\"\\nAccuracy per class:\")\n",
        "for label, acc in accuracy_per_class.items():\n",
        "    print(f\"Class '{label}': {acc:.4f}\")\n"
      ],
      "metadata": {
        "colab": {
          "base_uri": "https://localhost:8080/"
        },
        "id": "iB6PSdOASgHL",
        "outputId": "1fe9ecfc-e3d6-4b1a-d01a-8ceae62b5b15"
      },
      "execution_count": null,
      "outputs": [
        {
          "output_type": "stream",
          "name": "stdout",
          "text": [
            "Classification Report:\n",
            "               precision    recall  f1-score   support\n",
            "\n",
            "           0     0.6517    0.7739    0.7076      1088\n",
            "           1     0.6600    0.6142    0.6363      1125\n",
            "           2     0.6950    0.6145    0.6522      1079\n",
            "           3     1.0000    0.9991    0.9995      1080\n",
            "\n",
            "    accuracy                         0.7491      4372\n",
            "   macro avg     0.7517    0.7504    0.7489      4372\n",
            "weighted avg     0.7505    0.7491    0.7477      4372\n",
            "\n",
            "Overall Accuracy: 0.7490850869167429\n",
            "\n",
            "Accuracy per class:\n",
            "Class '0': 0.7739\n",
            "Class '1': 0.6142\n",
            "Class '2': 0.6145\n",
            "Class '3': 0.9991\n"
          ]
        }
      ]
    },
    {
      "cell_type": "markdown",
      "source": [
        "xXG-B"
      ],
      "metadata": {
        "id": "5NYLk9egSgxE"
      }
    },
    {
      "cell_type": "code",
      "source": [
        "\n",
        "from xgboost import XGBClassifier\n",
        "# Initialize and train the XGBoost classifier\n",
        "xgb_classifier = XGBClassifier(objective='multi:softprob' if len(set(y_train)) > 2 else 'binary:logistic')\n",
        "# Adjust objective for multi-class or binary classification\n",
        "xgb_classifier.fit(X_train, y_train)\n",
        "\n",
        "# Evaluate the classifier\n",
        "y_pred = xgb_classifier.predict(X_test)\n",
        "accuracy = accuracy_score(y_test, y_pred)\n",
        "print(\"Accuracy:\", accuracy)"
      ],
      "metadata": {
        "colab": {
          "base_uri": "https://localhost:8080/"
        },
        "id": "m1zuBsb3Sp7I",
        "outputId": "736b0723-5bdc-4a29-8511-5ad9e87b6c47"
      },
      "execution_count": null,
      "outputs": [
        {
          "output_type": "stream",
          "name": "stdout",
          "text": [
            "Accuracy: 0.7660109789569991\n"
          ]
        }
      ]
    },
    {
      "cell_type": "code",
      "source": [
        "from sklearn.metrics import classification_report, accuracy_score\n",
        "\n",
        "# Calculate precision, recall, f1-score, and support for each class and overall\n",
        "report = classification_report(y_test, y_pred, digits=4)\n",
        "\n",
        "# Print the classification report\n",
        "print(\"Classification Report:\\n\", report)\n",
        "\n",
        "# Calculate accuracy\n",
        "accuracy = accuracy_score(y_test, y_pred)\n",
        "print(\"Overall Accuracy:\", accuracy)\n",
        "\n",
        "# Calculate accuracy for each class\n",
        "accuracy_per_class = {}\n",
        "for label in set(y_test):\n",
        "    mask = (y_test == label)\n",
        "    accuracy_per_class[label] = accuracy_score(y_test[mask], y_pred[mask])\n",
        "\n",
        "# Print accuracy for each class\n",
        "print(\"\\nAccuracy per class:\")\n",
        "for label, acc in accuracy_per_class.items():\n",
        "    print(f\"Class '{label}': {acc:.4f}\")\n"
      ],
      "metadata": {
        "colab": {
          "base_uri": "https://localhost:8080/"
        },
        "id": "UsCFvhKOSuJ-",
        "outputId": "689cb1f0-2dfb-461e-f5f3-86b27af08a7c"
      },
      "execution_count": null,
      "outputs": [
        {
          "output_type": "stream",
          "name": "stdout",
          "text": [
            "Classification Report:\n",
            "               precision    recall  f1-score   support\n",
            "\n",
            "           0     0.7002    0.7684    0.7327      1088\n",
            "           1     0.6835    0.6489    0.6658      1125\n",
            "           2     0.6831    0.6534    0.6679      1079\n",
            "           3     1.0000    0.9981    0.9991      1080\n",
            "\n",
            "    accuracy                         0.7660      4372\n",
            "   macro avg     0.7667    0.7672    0.7664      4372\n",
            "weighted avg     0.7657    0.7660    0.7653      4372\n",
            "\n",
            "Overall Accuracy: 0.7660109789569991\n",
            "\n",
            "Accuracy per class:\n",
            "Class '0': 0.7684\n",
            "Class '1': 0.6489\n",
            "Class '2': 0.6534\n",
            "Class '3': 0.9981\n"
          ]
        }
      ]
    },
    {
      "cell_type": "markdown",
      "source": [
        "NTK"
      ],
      "metadata": {
        "id": "_PFURyemSx81"
      }
    },
    {
      "cell_type": "code",
      "source": [
        "import numpy as np\n",
        "from sklearn.svm import SVC\n",
        "from sklearn.metrics import accuracy_score\n",
        "from sklearn.model_selection import train_test_split\n",
        "\n",
        "# Ensure X_train and y_train are numpy arrays\n",
        "X_train = np.array(X_train)\n",
        "y_train = np.array(y_train)\n",
        "\n",
        "# Check the length of the dataset\n",
        "dataset_length = len(X_train)\n",
        "\n",
        "# Ensure that dataset contains at least 1000 elements\n",
        "if dataset_length >= 1000:\n",
        "    # Use stratified sampling to ensure class balance in the sampled subset\n",
        "    X_train_subset, _, y_train_subset, _ = train_test_split(X_train, y_train, train_size=4000, stratify=y_train, random_state=42)\n",
        "\n",
        "    # Initialize NTK kernel (this assumes you have the NTK implementation)\n",
        "    kernel_ntk = NTK(depth=2)\n",
        "\n",
        "    # Initialize SVM classifier with NTK kernel\n",
        "    SVCClf = SVC(kernel=kernel_ntk)\n",
        "\n",
        "    # Train the classifier\n",
        "    SVCClf.fit(X_train_subset, y_train_subset)\n",
        "\n",
        "    # Assuming X_test, y_test are your test data\n",
        "    X_test = np.array(X_test)\n",
        "    y_test = np.array(y_test)\n",
        "\n",
        "    # Make predictions\n",
        "    y_pred = SVCClf.predict(X_test)\n",
        "\n",
        "    # Calculate accuracy\n",
        "    accuracy = accuracy_score(y_test, y_pred)\n",
        "    print(\"Accuracy:\", accuracy)\n",
        "else:\n",
        "    print(\"Dataset does not contain enough elements for 1000 random jokes.\")\n"
      ],
      "metadata": {
        "colab": {
          "base_uri": "https://localhost:8080/"
        },
        "id": "t1msZjV2Sy5Z",
        "outputId": "1005281d-7f00-4e2d-82e1-f00b93121a2d"
      },
      "execution_count": null,
      "outputs": [
        {
          "output_type": "stream",
          "name": "stdout",
          "text": [
            "Accuracy: 0.7330741079597438\n"
          ]
        }
      ]
    },
    {
      "cell_type": "code",
      "source": [
        "from sklearn.metrics import classification_report, accuracy_score\n",
        "\n",
        "# Calculate precision, recall, f1-score, and support for each class and overall\n",
        "report = classification_report(y_test, y_pred, digits=4)\n",
        "\n",
        "# Print the classification report\n",
        "print(\"Classification Report:\\n\", report)\n",
        "\n",
        "# Calculate accuracy\n",
        "accuracy = accuracy_score(y_test, y_pred)\n",
        "print(\"Overall Accuracy:\", accuracy)\n",
        "\n",
        "# Calculate accuracy for each class\n",
        "accuracy_per_class = {}\n",
        "for label in set(y_test):\n",
        "    mask = (y_test == label)\n",
        "    accuracy_per_class[label] = accuracy_score(y_test[mask], y_pred[mask])\n",
        "\n",
        "# Print accuracy for each class\n",
        "print(\"\\nAccuracy per class:\")\n",
        "for label, acc in accuracy_per_class.items():\n",
        "    print(f\"Class '{label}': {acc:.4f}\")\n"
      ],
      "metadata": {
        "colab": {
          "base_uri": "https://localhost:8080/"
        },
        "id": "UcQ9TmhQS0d5",
        "outputId": "191ecf60-ee41-430e-a373-6115817b5393"
      },
      "execution_count": null,
      "outputs": [
        {
          "output_type": "stream",
          "name": "stdout",
          "text": [
            "Classification Report:\n",
            "               precision    recall  f1-score   support\n",
            "\n",
            "           0     0.6187    0.7665    0.6847      1088\n",
            "           1     0.6489    0.5947    0.6206      1125\n",
            "           2     0.6828    0.5765    0.6251      1079\n",
            "           3     0.9982    1.0000    0.9991      1080\n",
            "\n",
            "    accuracy                         0.7331      4372\n",
            "   macro avg     0.7371    0.7344    0.7324      4372\n",
            "weighted avg     0.7360    0.7331    0.7312      4372\n",
            "\n",
            "Overall Accuracy: 0.7330741079597438\n",
            "\n",
            "Accuracy per class:\n",
            "Class '0': 0.7665\n",
            "Class '1': 0.5947\n",
            "Class '2': 0.5765\n",
            "Class '3': 1.0000\n"
          ]
        }
      ]
    },
    {
      "cell_type": "code",
      "source": [
        "import pandas as pd\n",
        "from sklearn.manifold import TSNE\n",
        "import matplotlib.pyplot as plt\n",
        "import seaborn as sns\n",
        "\n",
        "# Load the dataset\n",
        "data = pd.read_csv('/content/word_embeddings.csv')  # Update with your file path\n",
        "# Assuming your CSV file has columns for each GloVe embedding dimension, e.g., 'glove_1', 'glove_2', ..., 'glove_100'\n",
        "# And a column named 'label' for the joke type\n",
        "\n",
        "# Extract features (GloVe embeddings) and labels\n",
        "features = data.drop('joke_type', axis=1).values  # Assuming the embeddings start from the first column\n",
        "labels = data['joke_type'].values\n",
        "\n",
        "# Apply t-SNE\n",
        "tsne_model = TSNE(n_components=2, perplexity=30, n_iter=300, random_state=42)\n",
        "tsne_features = tsne_model.fit_transform(features)\n",
        "\n",
        "# Create a DataFrame for the t-SNE results\n",
        "tsne_df = pd.DataFrame(tsne_features, columns=['Dim1', 'Dim2'])\n",
        "tsne_df['label'] = labels\n",
        "\n",
        "# Plot using seaborn\n",
        "plt.figure(figsize=(10, 6))\n",
        "sns.scatterplot(\n",
        "    x='Dim1', y='Dim2',\n",
        "    hue='label',\n",
        "    palette=sns.color_palette(\"hsv\", len(set(labels))),\n",
        "    data=tsne_df,\n",
        "    legend=\"full\",\n",
        "    alpha=0.7\n",
        ")\n",
        "plt.title('t-SNE plot of GloVe embeddings')\n",
        "plt.show()\n"
      ],
      "metadata": {
        "colab": {
          "base_uri": "https://localhost:8080/",
          "height": 558
        },
        "id": "amPBqfWrS13B",
        "outputId": "bcaf473a-4909-4767-b090-588c431353db"
      },
      "execution_count": null,
      "outputs": [
        {
          "output_type": "display_data",
          "data": {
            "text/plain": [
              "<Figure size 1000x600 with 1 Axes>"
            ],
            "image/png": "[encoded data removed]"
          },
          "metadata": {}
        }
      ]
    }
  ]
}